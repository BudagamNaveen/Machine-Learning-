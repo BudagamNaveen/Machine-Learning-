{
 "cells": [
  {
   "cell_type": "code",
   "execution_count": 0,
   "metadata": {
    "colab": {},
    "colab_type": "code",
    "id": "vHH-Crrf54so"
   },
   "outputs": [],
   "source": [
    "import numpy as np\n",
    "import pandas as pd\n",
    "import matplotlib.pyplot as plt\n",
    "import seaborn as sns\n",
    "%matplotlib inline"
   ]
  },
  {
   "cell_type": "code",
   "execution_count": 0,
   "metadata": {
    "colab": {},
    "colab_type": "code",
    "id": "5_Xy62V16GGK"
   },
   "outputs": [],
   "source": [
    "df = pd.read_csv('Classified Data',index_col=0)"
   ]
  },
  {
   "cell_type": "code",
   "execution_count": 0,
   "metadata": {
    "colab": {
     "base_uri": "https://localhost:8080/",
     "height": 204
    },
    "colab_type": "code",
    "executionInfo": {
     "elapsed": 1351,
     "status": "ok",
     "timestamp": 1572975257330,
     "user": {
      "displayName": "Naveen Budagam",
      "photoUrl": "https://lh3.googleusercontent.com/a-/AAuE7mBFZ-FO3b9faUBRu-wXqjrmI6-07STQ3nAsw5Dztw=s64",
      "userId": "03355118857104544652"
     },
     "user_tz": -330
    },
    "id": "t2ShnNJq6UQ_",
    "outputId": "efcc8126-d854-46de-fb4c-892b7e62ee2a"
   },
   "outputs": [
    {
     "data": {
      "text/html": [
       "<div>\n",
       "<style scoped>\n",
       "    .dataframe tbody tr th:only-of-type {\n",
       "        vertical-align: middle;\n",
       "    }\n",
       "\n",
       "    .dataframe tbody tr th {\n",
       "        vertical-align: top;\n",
       "    }\n",
       "\n",
       "    .dataframe thead th {\n",
       "        text-align: right;\n",
       "    }\n",
       "</style>\n",
       "<table border=\"1\" class=\"dataframe\">\n",
       "  <thead>\n",
       "    <tr style=\"text-align: right;\">\n",
       "      <th></th>\n",
       "      <th>WTT</th>\n",
       "      <th>PTI</th>\n",
       "      <th>EQW</th>\n",
       "      <th>SBI</th>\n",
       "      <th>LQE</th>\n",
       "      <th>QWG</th>\n",
       "      <th>FDJ</th>\n",
       "      <th>PJF</th>\n",
       "      <th>HQE</th>\n",
       "      <th>NXJ</th>\n",
       "      <th>TARGET CLASS</th>\n",
       "    </tr>\n",
       "  </thead>\n",
       "  <tbody>\n",
       "    <tr>\n",
       "      <th>0</th>\n",
       "      <td>0.913917</td>\n",
       "      <td>1.162073</td>\n",
       "      <td>0.567946</td>\n",
       "      <td>0.755464</td>\n",
       "      <td>0.780862</td>\n",
       "      <td>0.352608</td>\n",
       "      <td>0.759697</td>\n",
       "      <td>0.643798</td>\n",
       "      <td>0.879422</td>\n",
       "      <td>1.231409</td>\n",
       "      <td>1</td>\n",
       "    </tr>\n",
       "    <tr>\n",
       "      <th>1</th>\n",
       "      <td>0.635632</td>\n",
       "      <td>1.003722</td>\n",
       "      <td>0.535342</td>\n",
       "      <td>0.825645</td>\n",
       "      <td>0.924109</td>\n",
       "      <td>0.648450</td>\n",
       "      <td>0.675334</td>\n",
       "      <td>1.013546</td>\n",
       "      <td>0.621552</td>\n",
       "      <td>1.492702</td>\n",
       "      <td>0</td>\n",
       "    </tr>\n",
       "    <tr>\n",
       "      <th>2</th>\n",
       "      <td>0.721360</td>\n",
       "      <td>1.201493</td>\n",
       "      <td>0.921990</td>\n",
       "      <td>0.855595</td>\n",
       "      <td>1.526629</td>\n",
       "      <td>0.720781</td>\n",
       "      <td>1.626351</td>\n",
       "      <td>1.154483</td>\n",
       "      <td>0.957877</td>\n",
       "      <td>1.285597</td>\n",
       "      <td>0</td>\n",
       "    </tr>\n",
       "    <tr>\n",
       "      <th>3</th>\n",
       "      <td>1.234204</td>\n",
       "      <td>1.386726</td>\n",
       "      <td>0.653046</td>\n",
       "      <td>0.825624</td>\n",
       "      <td>1.142504</td>\n",
       "      <td>0.875128</td>\n",
       "      <td>1.409708</td>\n",
       "      <td>1.380003</td>\n",
       "      <td>1.522692</td>\n",
       "      <td>1.153093</td>\n",
       "      <td>1</td>\n",
       "    </tr>\n",
       "    <tr>\n",
       "      <th>4</th>\n",
       "      <td>1.279491</td>\n",
       "      <td>0.949750</td>\n",
       "      <td>0.627280</td>\n",
       "      <td>0.668976</td>\n",
       "      <td>1.232537</td>\n",
       "      <td>0.703727</td>\n",
       "      <td>1.115596</td>\n",
       "      <td>0.646691</td>\n",
       "      <td>1.463812</td>\n",
       "      <td>1.419167</td>\n",
       "      <td>1</td>\n",
       "    </tr>\n",
       "  </tbody>\n",
       "</table>\n",
       "</div>"
      ],
      "text/plain": [
       "        WTT       PTI       EQW  ...       HQE       NXJ  TARGET CLASS\n",
       "0  0.913917  1.162073  0.567946  ...  0.879422  1.231409             1\n",
       "1  0.635632  1.003722  0.535342  ...  0.621552  1.492702             0\n",
       "2  0.721360  1.201493  0.921990  ...  0.957877  1.285597             0\n",
       "3  1.234204  1.386726  0.653046  ...  1.522692  1.153093             1\n",
       "4  1.279491  0.949750  0.627280  ...  1.463812  1.419167             1\n",
       "\n",
       "[5 rows x 11 columns]"
      ]
     },
     "execution_count": 25,
     "metadata": {
      "tags": []
     },
     "output_type": "execute_result"
    }
   ],
   "source": [
    "df.head()"
   ]
  },
  {
   "cell_type": "code",
   "execution_count": 0,
   "metadata": {
    "colab": {},
    "colab_type": "code",
    "id": "Uy3bXpOj6k2U"
   },
   "outputs": [],
   "source": [
    "from sklearn.preprocessing import StandardScaler"
   ]
  },
  {
   "cell_type": "code",
   "execution_count": 0,
   "metadata": {
    "colab": {},
    "colab_type": "code",
    "id": "9vG4_Lrp61mc"
   },
   "outputs": [],
   "source": [
    "scaler = StandardScaler()"
   ]
  },
  {
   "cell_type": "code",
   "execution_count": 0,
   "metadata": {
    "colab": {
     "base_uri": "https://localhost:8080/",
     "height": 34
    },
    "colab_type": "code",
    "executionInfo": {
     "elapsed": 1336,
     "status": "ok",
     "timestamp": 1572975262395,
     "user": {
      "displayName": "Naveen Budagam",
      "photoUrl": "https://lh3.googleusercontent.com/a-/AAuE7mBFZ-FO3b9faUBRu-wXqjrmI6-07STQ3nAsw5Dztw=s64",
      "userId": "03355118857104544652"
     },
     "user_tz": -330
    },
    "id": "juuN_VmR7SB_",
    "outputId": "106191e7-ccff-4ec3-a8b0-56821ec0a8f9"
   },
   "outputs": [
    {
     "data": {
      "text/plain": [
       "StandardScaler(copy=True, with_mean=True, with_std=True)"
      ]
     },
     "execution_count": 28,
     "metadata": {
      "tags": []
     },
     "output_type": "execute_result"
    }
   ],
   "source": [
    "scaler.fit(df.drop('TARGET CLASS',axis=1))"
   ]
  },
  {
   "cell_type": "code",
   "execution_count": 0,
   "metadata": {
    "colab": {},
    "colab_type": "code",
    "id": "C-diuIH57osv"
   },
   "outputs": [],
   "source": [
    "scaled_features = scaler.transform(df.drop('TARGET CLASS',axis=1))"
   ]
  },
  {
   "cell_type": "code",
   "execution_count": 0,
   "metadata": {
    "colab": {},
    "colab_type": "code",
    "id": "xUqar5df707D"
   },
   "outputs": [],
   "source": [
    "Newdf = pd.DataFrame(scaled_features,columns=df.columns[:-1])"
   ]
  },
  {
   "cell_type": "code",
   "execution_count": 0,
   "metadata": {
    "colab": {
     "base_uri": "https://localhost:8080/",
     "height": 204
    },
    "colab_type": "code",
    "executionInfo": {
     "elapsed": 1279,
     "status": "ok",
     "timestamp": 1572975263576,
     "user": {
      "displayName": "Naveen Budagam",
      "photoUrl": "https://lh3.googleusercontent.com/a-/AAuE7mBFZ-FO3b9faUBRu-wXqjrmI6-07STQ3nAsw5Dztw=s64",
      "userId": "03355118857104544652"
     },
     "user_tz": -330
    },
    "id": "lXZxGJ9f8Bzy",
    "outputId": "65237e1a-d34b-4e7a-f88f-af223fce8025"
   },
   "outputs": [
    {
     "data": {
      "text/html": [
       "<div>\n",
       "<style scoped>\n",
       "    .dataframe tbody tr th:only-of-type {\n",
       "        vertical-align: middle;\n",
       "    }\n",
       "\n",
       "    .dataframe tbody tr th {\n",
       "        vertical-align: top;\n",
       "    }\n",
       "\n",
       "    .dataframe thead th {\n",
       "        text-align: right;\n",
       "    }\n",
       "</style>\n",
       "<table border=\"1\" class=\"dataframe\">\n",
       "  <thead>\n",
       "    <tr style=\"text-align: right;\">\n",
       "      <th></th>\n",
       "      <th>WTT</th>\n",
       "      <th>PTI</th>\n",
       "      <th>EQW</th>\n",
       "      <th>SBI</th>\n",
       "      <th>LQE</th>\n",
       "      <th>QWG</th>\n",
       "      <th>FDJ</th>\n",
       "      <th>PJF</th>\n",
       "      <th>HQE</th>\n",
       "      <th>NXJ</th>\n",
       "    </tr>\n",
       "  </thead>\n",
       "  <tbody>\n",
       "    <tr>\n",
       "      <th>0</th>\n",
       "      <td>-0.123542</td>\n",
       "      <td>0.185907</td>\n",
       "      <td>-0.913431</td>\n",
       "      <td>0.319629</td>\n",
       "      <td>-1.033637</td>\n",
       "      <td>-2.308375</td>\n",
       "      <td>-0.798951</td>\n",
       "      <td>-1.482368</td>\n",
       "      <td>-0.949719</td>\n",
       "      <td>-0.643314</td>\n",
       "    </tr>\n",
       "    <tr>\n",
       "      <th>1</th>\n",
       "      <td>-1.084836</td>\n",
       "      <td>-0.430348</td>\n",
       "      <td>-1.025313</td>\n",
       "      <td>0.625388</td>\n",
       "      <td>-0.444847</td>\n",
       "      <td>-1.152706</td>\n",
       "      <td>-1.129797</td>\n",
       "      <td>-0.202240</td>\n",
       "      <td>-1.828051</td>\n",
       "      <td>0.636759</td>\n",
       "    </tr>\n",
       "    <tr>\n",
       "      <th>2</th>\n",
       "      <td>-0.788702</td>\n",
       "      <td>0.339318</td>\n",
       "      <td>0.301511</td>\n",
       "      <td>0.755873</td>\n",
       "      <td>2.031693</td>\n",
       "      <td>-0.870156</td>\n",
       "      <td>2.599818</td>\n",
       "      <td>0.285707</td>\n",
       "      <td>-0.682494</td>\n",
       "      <td>-0.377850</td>\n",
       "    </tr>\n",
       "    <tr>\n",
       "      <th>3</th>\n",
       "      <td>0.982841</td>\n",
       "      <td>1.060193</td>\n",
       "      <td>-0.621399</td>\n",
       "      <td>0.625299</td>\n",
       "      <td>0.452820</td>\n",
       "      <td>-0.267220</td>\n",
       "      <td>1.750208</td>\n",
       "      <td>1.066491</td>\n",
       "      <td>1.241325</td>\n",
       "      <td>-1.026987</td>\n",
       "    </tr>\n",
       "    <tr>\n",
       "      <th>4</th>\n",
       "      <td>1.139275</td>\n",
       "      <td>-0.640392</td>\n",
       "      <td>-0.709819</td>\n",
       "      <td>-0.057175</td>\n",
       "      <td>0.822886</td>\n",
       "      <td>-0.936773</td>\n",
       "      <td>0.596782</td>\n",
       "      <td>-1.472352</td>\n",
       "      <td>1.040772</td>\n",
       "      <td>0.276510</td>\n",
       "    </tr>\n",
       "  </tbody>\n",
       "</table>\n",
       "</div>"
      ],
      "text/plain": [
       "        WTT       PTI       EQW  ...       PJF       HQE       NXJ\n",
       "0 -0.123542  0.185907 -0.913431  ... -1.482368 -0.949719 -0.643314\n",
       "1 -1.084836 -0.430348 -1.025313  ... -0.202240 -1.828051  0.636759\n",
       "2 -0.788702  0.339318  0.301511  ...  0.285707 -0.682494 -0.377850\n",
       "3  0.982841  1.060193 -0.621399  ...  1.066491  1.241325 -1.026987\n",
       "4  1.139275 -0.640392 -0.709819  ... -1.472352  1.040772  0.276510\n",
       "\n",
       "[5 rows x 10 columns]"
      ]
     },
     "execution_count": 31,
     "metadata": {
      "tags": []
     },
     "output_type": "execute_result"
    }
   ],
   "source": [
    "Newdf.head()"
   ]
  },
  {
   "cell_type": "code",
   "execution_count": 0,
   "metadata": {
    "colab": {},
    "colab_type": "code",
    "id": "30aJBlDu8EaJ"
   },
   "outputs": [],
   "source": [
    "from sklearn.model_selection import train_test_split"
   ]
  },
  {
   "cell_type": "code",
   "execution_count": 0,
   "metadata": {
    "colab": {},
    "colab_type": "code",
    "id": "9J-0n_EH9D7V"
   },
   "outputs": [],
   "source": [
    "X = df.drop('TARGET CLASS',axis=1)\n",
    "y = df['TARGET CLASS']"
   ]
  },
  {
   "cell_type": "code",
   "execution_count": 0,
   "metadata": {
    "colab": {},
    "colab_type": "code",
    "id": "jnoV1r6J8zxK"
   },
   "outputs": [],
   "source": [
    "X_train,X_test,y_train,y_test = train_test_split(X,y)"
   ]
  },
  {
   "cell_type": "code",
   "execution_count": 0,
   "metadata": {
    "colab": {},
    "colab_type": "code",
    "id": "E4XAPM4j9AY0"
   },
   "outputs": [],
   "source": [
    "from sklearn.neighbors import KNeighborsClassifier"
   ]
  },
  {
   "cell_type": "code",
   "execution_count": 0,
   "metadata": {
    "colab": {},
    "colab_type": "code",
    "id": "l8NsqG8A9swf"
   },
   "outputs": [],
   "source": [
    "knn = KNeighborsClassifier(n_neighbors =1)"
   ]
  },
  {
   "cell_type": "code",
   "execution_count": 0,
   "metadata": {
    "colab": {
     "base_uri": "https://localhost:8080/",
     "height": 68
    },
    "colab_type": "code",
    "executionInfo": {
     "elapsed": 1785,
     "status": "ok",
     "timestamp": 1572975267182,
     "user": {
      "displayName": "Naveen Budagam",
      "photoUrl": "https://lh3.googleusercontent.com/a-/AAuE7mBFZ-FO3b9faUBRu-wXqjrmI6-07STQ3nAsw5Dztw=s64",
      "userId": "03355118857104544652"
     },
     "user_tz": -330
    },
    "id": "Lb-1Ovfb9v-W",
    "outputId": "4c125a84-9e7a-435e-ee44-ddd13fdcc27e"
   },
   "outputs": [
    {
     "data": {
      "text/plain": [
       "KNeighborsClassifier(algorithm='auto', leaf_size=30, metric='minkowski',\n",
       "                     metric_params=None, n_jobs=None, n_neighbors=1, p=2,\n",
       "                     weights='uniform')"
      ]
     },
     "execution_count": 37,
     "metadata": {
      "tags": []
     },
     "output_type": "execute_result"
    }
   ],
   "source": [
    "knn.fit(X_train,y_train)"
   ]
  },
  {
   "cell_type": "code",
   "execution_count": 0,
   "metadata": {
    "colab": {},
    "colab_type": "code",
    "id": "uHvaj5QK9yle"
   },
   "outputs": [],
   "source": [
    "predict = knn.predict(X_test)"
   ]
  },
  {
   "cell_type": "code",
   "execution_count": 0,
   "metadata": {
    "colab": {},
    "colab_type": "code",
    "id": "NV_r-dEN-R6D"
   },
   "outputs": [],
   "source": [
    "from sklearn.metrics import classification_report\n",
    "from sklearn.metrics import confusion_matrix\n",
    "from sklearn.metrics import accuracy_score"
   ]
  },
  {
   "cell_type": "code",
   "execution_count": 0,
   "metadata": {
    "colab": {
     "base_uri": "https://localhost:8080/",
     "height": 170
    },
    "colab_type": "code",
    "executionInfo": {
     "elapsed": 911,
     "status": "ok",
     "timestamp": 1572259767095,
     "user": {
      "displayName": "Naveen Budagam",
      "photoUrl": "https://lh3.googleusercontent.com/a-/AAuE7mBFZ-FO3b9faUBRu-wXqjrmI6-07STQ3nAsw5Dztw=s64",
      "userId": "03355118857104544652"
     },
     "user_tz": -330
    },
    "id": "6tqJpswn-t1d",
    "outputId": "2c9ebdc5-7ae3-4900-f5da-fb42b7081403"
   },
   "outputs": [
    {
     "name": "stdout",
     "output_type": "stream",
     "text": [
      "              precision    recall  f1-score   support\n",
      "\n",
      "           0       0.95      0.95      0.95       128\n",
      "           1       0.95      0.95      0.95       122\n",
      "\n",
      "    accuracy                           0.95       250\n",
      "   macro avg       0.95      0.95      0.95       250\n",
      "weighted avg       0.95      0.95      0.95       250\n",
      "\n"
     ]
    }
   ],
   "source": [
    "print(classification_report(y_test,predict))"
   ]
  },
  {
   "cell_type": "code",
   "execution_count": 0,
   "metadata": {
    "colab": {},
    "colab_type": "code",
    "id": "BRahiw52-zJ3"
   },
   "outputs": [],
   "source": [
    "error = []\n",
    "for i in range(1,48):\n",
    "  knn = KNeighborsClassifier(n_neighbors =i)\n",
    "  knn.fit(X_train,y_train)\n",
    "  predict = knn.predict(X_test)\n",
    "  error.append(np.mean(predict != y_test))\n",
    "  "
   ]
  },
  {
   "cell_type": "code",
   "execution_count": 0,
   "metadata": {
    "colab": {
     "base_uri": "https://localhost:8080/",
     "height": 296
    },
    "colab_type": "code",
    "executionInfo": {
     "elapsed": 1217,
     "status": "ok",
     "timestamp": 1572260200245,
     "user": {
      "displayName": "Naveen Budagam",
      "photoUrl": "https://lh3.googleusercontent.com/a-/AAuE7mBFZ-FO3b9faUBRu-wXqjrmI6-07STQ3nAsw5Dztw=s64",
      "userId": "03355118857104544652"
     },
     "user_tz": -330
    },
    "id": "b3Iv5EBG_Rsk",
    "outputId": "2bc9fae4-770d-4cd9-f91e-b2ef66b22f62"
   },
   "outputs": [
    {
     "data": {
      "text/plain": [
       "Text(0, 0.5, 'Error Rate')"
      ]
     },
     "execution_count": 82,
     "metadata": {
      "tags": []
     },
     "output_type": "execute_result"
    },
    {
     "data": {
      "image/png": "[encoded data removed]",
      "text/plain": [
       "<Figure size 432x288 with 1 Axes>"
      ]
     },
     "metadata": {
      "tags": []
     },
     "output_type": "display_data"
    }
   ],
   "source": [
    "plt.plot(range(1,48),error,color='blue',linestyle='dashed',marker='o',markerfacecolor='red')\n",
    "plt.xlabel('K')\n",
    "plt.ylabel('Error Rate')"
   ]
  },
  {
   "cell_type": "code",
   "execution_count": 0,
   "metadata": {
    "colab": {},
    "colab_type": "code",
    "id": "XKHz6C4c_xGb"
   },
   "outputs": [],
   "source": [
    "from sklearn.model_selection import GridSearchCV"
   ]
  },
  {
   "cell_type": "code",
   "execution_count": 0,
   "metadata": {
    "colab": {},
    "colab_type": "code",
    "id": "tIJi08XnnkKU"
   },
   "outputs": [],
   "source": [
    "param_grid = {'n_neighbors':[1,2,5,8,9,10,11,12,13,15,16,14,17,18,19]}"
   ]
  },
  {
   "cell_type": "code",
   "execution_count": 0,
   "metadata": {
    "colab": {},
    "colab_type": "code",
    "id": "4KmMGRIDnrsO"
   },
   "outputs": [],
   "source": [
    "grid = GridSearchCV(KNeighborsClassifier(),param_grid,verbose=3)"
   ]
  },
  {
   "cell_type": "code",
   "execution_count": 0,
   "metadata": {
    "colab": {
     "base_uri": "https://localhost:8080/",
     "height": 1000
    },
    "colab_type": "code",
    "executionInfo": {
     "elapsed": 1708,
     "status": "ok",
     "timestamp": 1572975768547,
     "user": {
      "displayName": "Naveen Budagam",
      "photoUrl": "https://lh3.googleusercontent.com/a-/AAuE7mBFZ-FO3b9faUBRu-wXqjrmI6-07STQ3nAsw5Dztw=s64",
      "userId": "03355118857104544652"
     },
     "user_tz": -330
    },
    "id": "ERjgpazrn18A",
    "outputId": "610312c3-a8e8-4cec-87a7-192c3c3e3a68"
   },
   "outputs": [
    {
     "name": "stderr",
     "output_type": "stream",
     "text": [
      "/usr/local/lib/python3.6/dist-packages/sklearn/model_selection/_split.py:1978: FutureWarning: The default value of cv will change from 3 to 5 in version 0.22. Specify it explicitly to silence this warning.\n",
      "  warnings.warn(CV_WARNING, FutureWarning)\n",
      "[Parallel(n_jobs=1)]: Using backend SequentialBackend with 1 concurrent workers.\n",
      "[Parallel(n_jobs=1)]: Done   1 out of   1 | elapsed:    0.0s remaining:    0.0s\n",
      "[Parallel(n_jobs=1)]: Done   2 out of   2 | elapsed:    0.0s remaining:    0.0s\n"
     ]
    },
    {
     "name": "stdout",
     "output_type": "stream",
     "text": [
      "Fitting 3 folds for each of 15 candidates, totalling 45 fits\n",
      "[CV] n_neighbors=1 ...................................................\n",
      "[CV] ....................... n_neighbors=1, score=0.916, total=   0.0s\n",
      "[CV] n_neighbors=1 ...................................................\n",
      "[CV] ....................... n_neighbors=1, score=0.896, total=   0.0s\n",
      "[CV] n_neighbors=1 ...................................................\n",
      "[CV] ....................... n_neighbors=1, score=0.900, total=   0.0s\n",
      "[CV] n_neighbors=2 ...................................................\n",
      "[CV] ....................... n_neighbors=2, score=0.908, total=   0.0s\n",
      "[CV] n_neighbors=2 ...................................................\n",
      "[CV] ....................... n_neighbors=2, score=0.892, total=   0.0s\n",
      "[CV] n_neighbors=2 ...................................................\n",
      "[CV] ....................... n_neighbors=2, score=0.912, total=   0.0s\n",
      "[CV] n_neighbors=5 ...................................................\n",
      "[CV] ....................... n_neighbors=5, score=0.940, total=   0.0s\n",
      "[CV] n_neighbors=5 ...................................................\n",
      "[CV] ....................... n_neighbors=5, score=0.936, total=   0.0s\n",
      "[CV] n_neighbors=5 ...................................................\n",
      "[CV] ....................... n_neighbors=5, score=0.920, total=   0.0s\n",
      "[CV] n_neighbors=8 ...................................................\n",
      "[CV] ....................... n_neighbors=8, score=0.948, total=   0.0s\n",
      "[CV] n_neighbors=8 ...................................................\n",
      "[CV] ....................... n_neighbors=8, score=0.928, total=   0.0s\n",
      "[CV] n_neighbors=8 ...................................................\n",
      "[CV] ....................... n_neighbors=8, score=0.928, total=   0.0s\n",
      "[CV] n_neighbors=9 ...................................................\n",
      "[CV] ....................... n_neighbors=9, score=0.944, total=   0.0s\n",
      "[CV] n_neighbors=9 ...................................................\n",
      "[CV] ....................... n_neighbors=9, score=0.924, total=   0.0s\n",
      "[CV] n_neighbors=9 ...................................................\n",
      "[CV] ....................... n_neighbors=9, score=0.916, total=   0.0s\n",
      "[CV] n_neighbors=10 ..................................................\n",
      "[CV] ...................... n_neighbors=10, score=0.944, total=   0.0s\n",
      "[CV] n_neighbors=10 ..................................................\n",
      "[CV] ...................... n_neighbors=10, score=0.928, total=   0.0s\n",
      "[CV] n_neighbors=10 ..................................................\n",
      "[CV] ...................... n_neighbors=10, score=0.928, total=   0.0s\n",
      "[CV] n_neighbors=11 ..................................................\n",
      "[CV] ...................... n_neighbors=11, score=0.948, total=   0.0s\n",
      "[CV] n_neighbors=11 ..................................................\n",
      "[CV] ...................... n_neighbors=11, score=0.920, total=   0.0s\n",
      "[CV] n_neighbors=11 ..................................................\n",
      "[CV] ...................... n_neighbors=11, score=0.916, total=   0.0s\n",
      "[CV] n_neighbors=12 ..................................................\n",
      "[CV] ...................... n_neighbors=12, score=0.944, total=   0.0s\n",
      "[CV] n_neighbors=12 ..................................................\n",
      "[CV] ...................... n_neighbors=12, score=0.920, total=   0.0s\n",
      "[CV] n_neighbors=12 ..................................................\n",
      "[CV] ...................... n_neighbors=12, score=0.920, total=   0.0s\n",
      "[CV] n_neighbors=13 ..................................................\n",
      "[CV] ...................... n_neighbors=13, score=0.944, total=   0.0s\n",
      "[CV] n_neighbors=13 ..................................................\n",
      "[CV] ...................... n_neighbors=13, score=0.920, total=   0.0s\n",
      "[CV] n_neighbors=13 ..................................................\n",
      "[CV] ...................... n_neighbors=13, score=0.920, total=   0.0s\n",
      "[CV] n_neighbors=15 ..................................................\n",
      "[CV] ...................... n_neighbors=15, score=0.944, total=   0.0s\n",
      "[CV] n_neighbors=15 ..................................................\n",
      "[CV] ...................... n_neighbors=15, score=0.924, total=   0.0s\n",
      "[CV] n_neighbors=15 ..................................................\n",
      "[CV] ...................... n_neighbors=15, score=0.912, total=   0.0s\n",
      "[CV] n_neighbors=16 ..................................................\n",
      "[CV] ...................... n_neighbors=16, score=0.936, total=   0.0s\n",
      "[CV] n_neighbors=16 ..................................................\n",
      "[CV] ...................... n_neighbors=16, score=0.920, total=   0.0s\n",
      "[CV] n_neighbors=16 ..................................................\n",
      "[CV] ...................... n_neighbors=16, score=0.916, total=   0.0s\n",
      "[CV] n_neighbors=14 ..................................................\n",
      "[CV] ...................... n_neighbors=14, score=0.948, total=   0.0s\n",
      "[CV] n_neighbors=14 ..................................................\n",
      "[CV] ...................... n_neighbors=14, score=0.920, total=   0.0s\n",
      "[CV] n_neighbors=14 ..................................................\n",
      "[CV] ...................... n_neighbors=14, score=0.916, total=   0.0s\n",
      "[CV] n_neighbors=17 ..................................................\n",
      "[CV] ...................... n_neighbors=17, score=0.940, total=   0.0s\n",
      "[CV] n_neighbors=17 ..................................................\n",
      "[CV] ...................... n_neighbors=17, score=0.916, total=   0.0s\n",
      "[CV] n_neighbors=17 ..................................................\n",
      "[CV] ...................... n_neighbors=17, score=0.908, total=   0.0s\n",
      "[CV] n_neighbors=18 ..................................................\n",
      "[CV] ...................... n_neighbors=18, score=0.940, total=   0.0s\n",
      "[CV] n_neighbors=18 ..................................................\n",
      "[CV] ...................... n_neighbors=18, score=0.924, total=   0.0s\n",
      "[CV] n_neighbors=18 ..................................................\n",
      "[CV] ...................... n_neighbors=18, score=0.916, total=   0.0s\n",
      "[CV] n_neighbors=19 ..................................................\n",
      "[CV] ...................... n_neighbors=19, score=0.936, total=   0.0s\n",
      "[CV] n_neighbors=19 ..................................................\n",
      "[CV] ...................... n_neighbors=19, score=0.920, total=   0.0s\n",
      "[CV] n_neighbors=19 ..................................................\n",
      "[CV] ...................... n_neighbors=19, score=0.916, total=   0.0s\n"
     ]
    },
    {
     "name": "stderr",
     "output_type": "stream",
     "text": [
      "[Parallel(n_jobs=1)]: Done  45 out of  45 | elapsed:    0.6s finished\n"
     ]
    },
    {
     "data": {
      "text/plain": [
       "GridSearchCV(cv='warn', error_score='raise-deprecating',\n",
       "             estimator=KNeighborsClassifier(algorithm='auto', leaf_size=30,\n",
       "                                            metric='minkowski',\n",
       "                                            metric_params=None, n_jobs=None,\n",
       "                                            n_neighbors=5, p=2,\n",
       "                                            weights='uniform'),\n",
       "             iid='warn', n_jobs=None,\n",
       "             param_grid={'n_neighbors': [1, 2, 5, 8, 9, 10, 11, 12, 13, 15, 16,\n",
       "                                         14, 17, 18, 19]},\n",
       "             pre_dispatch='2*n_jobs', refit=True, return_train_score=False,\n",
       "             scoring=None, verbose=3)"
      ]
     },
     "execution_count": 58,
     "metadata": {
      "tags": []
     },
     "output_type": "execute_result"
    }
   ],
   "source": [
    "grid.fit(X_train,y_train)"
   ]
  },
  {
   "cell_type": "code",
   "execution_count": 0,
   "metadata": {
    "colab": {},
    "colab_type": "code",
    "id": "-rXFv_Z8n7hl"
   },
   "outputs": [],
   "source": [
    "predict1 = grid.predict(X_test)"
   ]
  },
  {
   "cell_type": "code",
   "execution_count": 0,
   "metadata": {
    "colab": {
     "base_uri": "https://localhost:8080/",
     "height": 34
    },
    "colab_type": "code",
    "executionInfo": {
     "elapsed": 1089,
     "status": "ok",
     "timestamp": 1572975771967,
     "user": {
      "displayName": "Naveen Budagam",
      "photoUrl": "https://lh3.googleusercontent.com/a-/AAuE7mBFZ-FO3b9faUBRu-wXqjrmI6-07STQ3nAsw5Dztw=s64",
      "userId": "03355118857104544652"
     },
     "user_tz": -330
    },
    "id": "_o0ZmIhaoLPr",
    "outputId": "07be3c74-d263-4f5e-a719-fdbda5ad2809"
   },
   "outputs": [
    {
     "name": "stdout",
     "output_type": "stream",
     "text": [
      "0.952\n"
     ]
    }
   ],
   "source": [
    "print(accuracy_score(y_test,predict1))"
   ]
  },
  {
   "cell_type": "code",
   "execution_count": 0,
   "metadata": {
    "colab": {
     "base_uri": "https://localhost:8080/",
     "height": 68
    },
    "colab_type": "code",
    "executionInfo": {
     "elapsed": 657,
     "status": "ok",
     "timestamp": 1572975773684,
     "user": {
      "displayName": "Naveen Budagam",
      "photoUrl": "https://lh3.googleusercontent.com/a-/AAuE7mBFZ-FO3b9faUBRu-wXqjrmI6-07STQ3nAsw5Dztw=s64",
      "userId": "03355118857104544652"
     },
     "user_tz": -330
    },
    "id": "MdkmSILkoXvU",
    "outputId": "3506f443-3f39-4f00-cb66-30e42b1c01ec"
   },
   "outputs": [
    {
     "data": {
      "text/plain": [
       "KNeighborsClassifier(algorithm='auto', leaf_size=30, metric='minkowski',\n",
       "                     metric_params=None, n_jobs=None, n_neighbors=8, p=2,\n",
       "                     weights='uniform')"
      ]
     },
     "execution_count": 61,
     "metadata": {
      "tags": []
     },
     "output_type": "execute_result"
    }
   ],
   "source": [
    "grid.best_estimator_"
   ]
  },
  {
   "cell_type": "code",
   "execution_count": 0,
   "metadata": {
    "colab": {
     "base_uri": "https://localhost:8080/",
     "height": 34
    },
    "colab_type": "code",
    "executionInfo": {
     "elapsed": 1223,
     "status": "ok",
     "timestamp": 1572975777874,
     "user": {
      "displayName": "Naveen Budagam",
      "photoUrl": "https://lh3.googleusercontent.com/a-/AAuE7mBFZ-FO3b9faUBRu-wXqjrmI6-07STQ3nAsw5Dztw=s64",
      "userId": "03355118857104544652"
     },
     "user_tz": -330
    },
    "id": "Yp7AY1Ppoy_8",
    "outputId": "6b199400-e982-4ec2-fbc1-7136718ffb95"
   },
   "outputs": [
    {
     "data": {
      "text/plain": [
       "{'n_neighbors': 8}"
      ]
     },
     "execution_count": 62,
     "metadata": {
      "tags": []
     },
     "output_type": "execute_result"
    }
   ],
   "source": [
    "grid.best_params_"
   ]
  },
  {
   "cell_type": "code",
   "execution_count": 0,
   "metadata": {
    "colab": {},
    "colab_type": "code",
    "id": "NNbJmYH_o1Ue"
   },
   "outputs": [],
   "source": []
  }
 ],
 "metadata": {
  "accelerator": "GPU",
  "colab": {
   "collapsed_sections": [],
   "name": "Complete KNN.ipynb",
   "provenance": []
  },
  "kernelspec": {
   "display_name": "Python 3 (ipykernel)",
   "language": "python",
   "name": "python3"
  },
  "language_info": {
   "codemirror_mode": {
    "name": "ipython",
    "version": 3
   },
   "file_extension": ".py",
   "mimetype": "text/x-python",
   "name": "python",
   "nbconvert_exporter": "python",
   "pygments_lexer": "ipython3",
   "version": "3.9.7"
  }
 },
 "nbformat": 4,
 "nbformat_minor": 1
}
